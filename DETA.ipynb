{
 "cells": [
  {
   "cell_type": "code",
   "execution_count": 1,
   "id": "b258b304",
   "metadata": {},
   "outputs": [],
   "source": [
    "import streamlit as st"
   ]
  },
  {
   "cell_type": "code",
   "execution_count": 1,
   "id": "1ce7c395",
   "metadata": {},
   "outputs": [],
   "source": [
    "from deta import Deta"
   ]
  },
  {
   "cell_type": "code",
   "execution_count": 92,
   "id": "5c35c18d",
   "metadata": {},
   "outputs": [],
   "source": [
    "import os\n",
    "from dotenv import load_dotenv"
   ]
  },
  {
   "cell_type": "code",
   "execution_count": 93,
   "id": "1913f38d",
   "metadata": {},
   "outputs": [
    {
     "data": {
      "text/plain": [
       "False"
      ]
     },
     "execution_count": 93,
     "metadata": {},
     "output_type": "execute_result"
    }
   ],
   "source": [
    "load_dotenv('.env')"
   ]
  },
  {
   "cell_type": "code",
   "execution_count": 94,
   "id": "70da7941",
   "metadata": {},
   "outputs": [],
   "source": [
    "DETA_key = '#key'\n",
    "deta = Deta(DETA_key)"
   ]
  },
  {
   "cell_type": "code",
   "execution_count": 95,
   "id": "a629ab82",
   "metadata": {},
   "outputs": [],
   "source": [
    "db = deta.Base(\"idk\")"
   ]
  },
  {
   "cell_type": "code",
   "execution_count": 96,
   "id": "f6651d3d",
   "metadata": {},
   "outputs": [],
   "source": [
    "def insert_period(name, incomes, expenses, comment):\n",
    "    \"\"\"Returns the report on a successful creation, otherwise raises an error\"\"\"\n",
    "    return db.put({\"key\": name, \"incomes\": incomes, \"expenses\": expenses, \"comment\": comment})\n",
    "\n",
    "def fetch_all_periods():\n",
    "    \"\"\"Returns a dict of all periods\"\"\"\n",
    "    res = db.fetch()\n",
    "    return res.items\n",
    "\n",
    "def get_names(name):\n",
    "    return db.get(name)"
   ]
  },
  {
   "cell_type": "code",
   "execution_count": 97,
   "id": "8e8a06f3",
   "metadata": {},
   "outputs": [],
   "source": [
    "username = 'test1'\n",
    "incomes = 50000\n",
    "expenses = 3000\n",
    "comment = 'xyz12345'"
   ]
  },
  {
   "cell_type": "code",
   "execution_count": 98,
   "id": "b124d371",
   "metadata": {},
   "outputs": [
    {
     "data": {
      "text/plain": [
       "{'comment': 'xyz12345', 'expenses': 3000, 'incomes': 50000, 'key': 'test1'}"
      ]
     },
     "execution_count": 98,
     "metadata": {},
     "output_type": "execute_result"
    }
   ],
   "source": [
    "insert_period(username,incomes,expenses,comment)"
   ]
  },
  {
   "cell_type": "code",
   "execution_count": 99,
   "id": "c5095cf0",
   "metadata": {},
   "outputs": [
    {
     "data": {
      "text/plain": [
       "{'comment': '12345', 'expenses': 1345, 'incomes': 12500, 'key': 'test2'}"
      ]
     },
     "execution_count": 99,
     "metadata": {},
     "output_type": "execute_result"
    }
   ],
   "source": [
    "username = 'test2'\n",
    "incomes = 12500\n",
    "expenses = 1345\n",
    "comment = '12345'\n",
    "insert_period(username,incomes,expenses,comment)"
   ]
  },
  {
   "cell_type": "code",
   "execution_count": 100,
   "id": "a253cf90",
   "metadata": {},
   "outputs": [
    {
     "name": "stdout",
     "output_type": "stream",
     "text": [
      "[{'comment': 'xyz12345', 'expenses': 3000, 'incomes': 50000, 'key': 'test1'}, {'comment': '12345', 'expenses': 1345, 'incomes': 12500, 'key': 'test2'}]\n"
     ]
    }
   ],
   "source": [
    "print(fetch_all_periods())"
   ]
  },
  {
   "cell_type": "code",
   "execution_count": 101,
   "id": "6da8ae40",
   "metadata": {},
   "outputs": [],
   "source": [
    "user_data = get_names('test2')"
   ]
  },
  {
   "cell_type": "code",
   "execution_count": 102,
   "id": "57a493a9",
   "metadata": {},
   "outputs": [
    {
     "data": {
      "text/plain": [
       "{'comment': '12345', 'expenses': 1345, 'incomes': 12500, 'key': 'test2'}"
      ]
     },
     "execution_count": 102,
     "metadata": {},
     "output_type": "execute_result"
    }
   ],
   "source": [
    "db.get('test2')"
   ]
  },
  {
   "cell_type": "code",
   "execution_count": 103,
   "id": "d7155a37",
   "metadata": {},
   "outputs": [
    {
     "data": {
      "text/plain": [
       "'12345'"
      ]
     },
     "execution_count": 103,
     "metadata": {},
     "output_type": "execute_result"
    }
   ],
   "source": [
    "user_data\n",
    "comment = user_data.get('comment')\n",
    "comment"
   ]
  },
  {
   "cell_type": "code",
   "execution_count": null,
   "id": "44f03d1a",
   "metadata": {},
   "outputs": [],
   "source": []
  }
 ],
 "metadata": {
  "kernelspec": {
   "display_name": "Python 3 (ipykernel)",
   "language": "python",
   "name": "python3"
  },
  "language_info": {
   "codemirror_mode": {
    "name": "ipython",
    "version": 3
   },
   "file_extension": ".py",
   "mimetype": "text/x-python",
   "name": "python",
   "nbconvert_exporter": "python",
   "pygments_lexer": "ipython3",
   "version": "3.10.0"
  }
 },
 "nbformat": 4,
 "nbformat_minor": 5
}
